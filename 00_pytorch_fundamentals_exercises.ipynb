{
  "nbformat": 4,
  "nbformat_minor": 0,
  "metadata": {
    "colab": {
      "provenance": [],
      "gpuType": "T4"
    },
    "kernelspec": {
      "name": "python3",
      "display_name": "Python 3"
    },
    "language_info": {
      "name": "python"
    },
    "accelerator": "GPU"
  },
  "cells": [
    {
      "cell_type": "code",
      "execution_count": 3,
      "metadata": {
        "id": "w-_WfW6emcXN"
      },
      "outputs": [],
      "source": [
        "import torch"
      ]
    },
    {
      "cell_type": "markdown",
      "source": [
        "### 1. Documentation reading\n",
        "\n",
        "A big part of deep learning (and learning to code in general) is getting familiar with the documentation of a certain framework you're using. We'll be using the PyTorch documentation a lot throughout the rest of this course. So I'd recommend spending 10-minutes reading the following (it's okay if you don't get some things for now, the focus is not yet full understanding, it's awareness):\n",
        "\n",
        "    The documentation on torch.Tensor.\n",
        "    The documentation on torch.cuda.\n"
      ],
      "metadata": {
        "id": "kcdpQ_1166co"
      }
    },
    {
      "cell_type": "markdown",
      "source": [
        "### 2. Create a random tensor with shape (7, 7)."
      ],
      "metadata": {
        "id": "MB-9agr_ndDp"
      }
    },
    {
      "cell_type": "code",
      "source": [
        "x = torch.rand(size = (7,7))\n",
        "x, x.shape"
      ],
      "metadata": {
        "id": "NnIFW5ksnjXw",
        "colab": {
          "base_uri": "https://localhost:8080/"
        },
        "outputId": "80248f6e-8932-4a9b-cdc4-f81d5fe1fc9b"
      },
      "execution_count": 5,
      "outputs": [
        {
          "output_type": "execute_result",
          "data": {
            "text/plain": [
              "(tensor([[6.4662e-01, 4.4019e-01, 5.4650e-02, 1.2581e-01, 2.7145e-01, 5.4815e-01,\n",
              "          4.9542e-01],\n",
              "         [3.4251e-01, 5.9268e-01, 3.5843e-01, 9.8232e-01, 8.2112e-01, 2.8253e-01,\n",
              "          7.6626e-01],\n",
              "         [8.1062e-01, 6.5042e-02, 7.3036e-01, 9.9760e-01, 2.6162e-01, 5.9371e-01,\n",
              "          3.5756e-01],\n",
              "         [2.4964e-01, 6.0335e-01, 2.9450e-01, 9.0988e-03, 6.1948e-01, 3.5936e-01,\n",
              "          7.1880e-02],\n",
              "         [2.6251e-01, 8.2805e-01, 6.9747e-01, 7.9284e-01, 1.2281e-01, 8.3582e-01,\n",
              "          7.8906e-01],\n",
              "         [3.4185e-01, 4.0374e-01, 3.4860e-01, 5.3615e-01, 9.6049e-01, 2.0197e-01,\n",
              "          8.5775e-01],\n",
              "         [9.4029e-01, 6.1922e-01, 1.0968e-01, 7.9105e-01, 8.1950e-04, 1.5920e-01,\n",
              "          8.9616e-01]]),\n",
              " torch.Size([7, 7]))"
            ]
          },
          "metadata": {},
          "execution_count": 5
        }
      ]
    },
    {
      "cell_type": "markdown",
      "source": [
        "### 3. Perform a matrix multiplication on the tensor from 2 with another random tensor with shape (1, 7) (hint: you may have to transpose the second tensor).\n"
      ],
      "metadata": {
        "id": "aFsHO1bitmoh"
      }
    },
    {
      "cell_type": "code",
      "source": [
        "tensor_1 = torch.rand(size = (7,7))\n",
        "tensor_2 = torch.rand(size = (1,7))\n",
        "\n",
        "# Inner dimensions should be equal\n",
        "x = torch.matmul(tensor_1,tensor_2.T)\n",
        "x, x.shape"
      ],
      "metadata": {
        "colab": {
          "base_uri": "https://localhost:8080/"
        },
        "id": "DgghvXCtuTKI",
        "outputId": "2b3f6549-2b93-4d26-d936-edbcff8a3000"
      },
      "execution_count": 12,
      "outputs": [
        {
          "output_type": "execute_result",
          "data": {
            "text/plain": [
              "(tensor([[1.4612],\n",
              "         [1.6615],\n",
              "         [2.1276],\n",
              "         [1.7641],\n",
              "         [1.3070],\n",
              "         [2.6528],\n",
              "         [1.6070]]),\n",
              " torch.Size([7, 1]))"
            ]
          },
          "metadata": {},
          "execution_count": 12
        }
      ]
    },
    {
      "cell_type": "markdown",
      "source": [
        "### 4. Set the random seed to 0 and do 2 & 3 over again.\n",
        "\n",
        "The output should be:\n",
        "\n",
        "(tensor([[1.8542],                   \n",
        "         [1.9611],                     \n",
        "         [2.2884],                  \n",
        "         [3.0481],                 \n",
        "         [1.7067],                \n",
        "         [2.5290],                         \n",
        "         [1.7989]]), torch.Size([7, 1]))                      \n",
        "\n"
      ],
      "metadata": {
        "id": "w720MfhvvJyP"
      }
    },
    {
      "cell_type": "code",
      "source": [
        "# Set manual seed\n",
        "torch.manual_seed(0)\n",
        "\n",
        "# Create two random tensors\n",
        "tensor_1 = torch.rand(size = (7,7))\n",
        "tensor_2 = torch.rand(size = (1,7))\n",
        "\n",
        "# Matrix multiply tensors\n",
        "result = torch.matmul(tensor_1, tensor_2.T)\n",
        "result, result.shape"
      ],
      "metadata": {
        "colab": {
          "base_uri": "https://localhost:8080/"
        },
        "id": "zhKBFBcExWie",
        "outputId": "641e84b7-a75a-4f7d-e6fa-60df39f8de99"
      },
      "execution_count": 15,
      "outputs": [
        {
          "output_type": "execute_result",
          "data": {
            "text/plain": [
              "(tensor([[1.8542],\n",
              "         [1.9611],\n",
              "         [2.2884],\n",
              "         [3.0481],\n",
              "         [1.7067],\n",
              "         [2.5290],\n",
              "         [1.7989]]),\n",
              " torch.Size([7, 1]))"
            ]
          },
          "metadata": {},
          "execution_count": 15
        }
      ]
    },
    {
      "cell_type": "markdown",
      "source": [
        "### 5. Speaking of random seeds, we saw how to set it with torch.manual_seed() but is there a GPU equivalent? (hint: you'll need to look into the documentation for torch.cuda for this one)\n",
        "\n",
        "    If there is, set the GPU random seed to 1234.\n",
        "\n"
      ],
      "metadata": {
        "id": "5JqS7bdrxrBt"
      }
    },
    {
      "cell_type": "code",
      "source": [
        "# Set random seed on the GPU\n",
        "torch.cuda.manual_seed(1234)"
      ],
      "metadata": {
        "id": "bBZP3VkGxq-2"
      },
      "execution_count": 16,
      "outputs": []
    },
    {
      "cell_type": "markdown",
      "source": [
        "### 6. Create two random tensors of shape (2, 3) and send them both to the GPU (you'll need access to a GPU for this). Set torch.manual_seed(1234) when creating the tensors (this doesn't have to be the GPU random seed). The output should be something like:\n",
        "\n",
        "Device: cuda\n",
        "(tensor([[0.0290, 0.4019, 0.2598],                \n",
        "         [0.3666, 0.0583, 0.7006]], device='cuda:0'),                \n",
        " tensor([[0.0518, 0.4681, 0.6738],                   \n",
        "         [0.3315, 0.7837, 0.5631]], device='cuda:0'))                 \n",
        "\n"
      ],
      "metadata": {
        "id": "YO3cxohExq8I"
      }
    },
    {
      "cell_type": "code",
      "source": [
        "# Set random seed\n",
        "import torch\n",
        "torch.manual_seed(1234)\n",
        "\n",
        "# Check for access to GPU\n",
        "device = 'cuda' if torch.cuda.is_available() else 'cpu'\n",
        "print('Device : ', device)\n",
        "# Create two random tensors on GPU\n",
        "tensor_A = torch.rand(size = (2,3)).to(device)\n",
        "tensor_B = torch.rand(size = (2,3)).to(device)\n",
        "\n",
        "tensor_A, tensor_B"
      ],
      "metadata": {
        "colab": {
          "base_uri": "https://localhost:8080/"
        },
        "id": "MFoti76Gxq6Q",
        "outputId": "1320d673-2599-4411-9aa4-a2b85805a5c5"
      },
      "execution_count": 4,
      "outputs": [
        {
          "output_type": "stream",
          "name": "stdout",
          "text": [
            "Device :  cuda\n"
          ]
        },
        {
          "output_type": "execute_result",
          "data": {
            "text/plain": [
              "(tensor([[0.0290, 0.4019, 0.2598],\n",
              "         [0.3666, 0.0583, 0.7006]], device='cuda:0'),\n",
              " tensor([[0.0518, 0.4681, 0.6738],\n",
              "         [0.3315, 0.7837, 0.5631]], device='cuda:0'))"
            ]
          },
          "metadata": {},
          "execution_count": 4
        }
      ]
    },
    {
      "cell_type": "markdown",
      "source": [
        "### 7. Perform a matrix multiplication on the tensors you created in 6 (again, you may have to adjust the shapes of one of the tensors).\n",
        "\n",
        "The output should look like:\n",
        "\n",
        "(tensor([[0.3647, 0.4709],\n",
        "         [0.5184, 0.5617]], device='cuda:0'), torch.Size([2, 2]))"
      ],
      "metadata": {
        "id": "hClf2vnUxq3P"
      }
    },
    {
      "cell_type": "code",
      "source": [
        "# Perform matmul on tensor_A and tensor_B\n",
        "matrix_multiplication = torch.matmul(tensor_A, tensor_B.T)\n",
        "matrix_multiplication, matrix_multiplication.shape"
      ],
      "metadata": {
        "colab": {
          "base_uri": "https://localhost:8080/"
        },
        "id": "L-Y3hGvTxq1-",
        "outputId": "b872bc82-8b8b-428f-ca79-79d0a37b707f"
      },
      "execution_count": 7,
      "outputs": [
        {
          "output_type": "execute_result",
          "data": {
            "text/plain": [
              "(tensor([[0.3647, 0.4709],\n",
              "         [0.5184, 0.5617]], device='cuda:0'),\n",
              " torch.Size([2, 2]))"
            ]
          },
          "metadata": {},
          "execution_count": 7
        }
      ]
    },
    {
      "cell_type": "markdown",
      "source": [
        "### 8. Find the maximum and minimum values of the output of 7."
      ],
      "metadata": {
        "id": "-gZzU4Z4xqyK"
      }
    },
    {
      "cell_type": "code",
      "source": [
        "# Find max\n",
        "max = torch.max(matrix_multiplication)\n",
        "\n",
        "# Find min\n",
        "min = torch.min(matrix_multiplication)\n",
        "print('Max : ',max)\n",
        "print('Min : ',min)"
      ],
      "metadata": {
        "colab": {
          "base_uri": "https://localhost:8080/"
        },
        "id": "iDtGZbz4xqwz",
        "outputId": "3f366d00-97fb-49b1-ad26-d3cb9b22d751"
      },
      "execution_count": 9,
      "outputs": [
        {
          "output_type": "stream",
          "name": "stdout",
          "text": [
            "Max :  tensor(0.5617, device='cuda:0')\n",
            "Min :  tensor(0.3647, device='cuda:0')\n"
          ]
        }
      ]
    },
    {
      "cell_type": "markdown",
      "source": [
        "### 9. Find the maximum and minimum index values of the output of 7."
      ],
      "metadata": {
        "id": "1OH1ZOvKzH6W"
      }
    },
    {
      "cell_type": "code",
      "source": [
        "# Find arg max\n",
        "arg_max = torch.argmax(matrix_multiplication)\n",
        "\n",
        "# Find arg min\n",
        "arg_min = torch.argmin(matrix_multiplication)\n",
        "\n",
        "print('Arg_Max : ',arg_max)\n",
        "print('Arg_Min : ',arg_min)"
      ],
      "metadata": {
        "colab": {
          "base_uri": "https://localhost:8080/"
        },
        "id": "zFJVuafnzKMh",
        "outputId": "96ba9f6b-4a9a-4798-f552-4b9df3de37fb"
      },
      "execution_count": 10,
      "outputs": [
        {
          "output_type": "stream",
          "name": "stdout",
          "text": [
            "Arg_Max :  tensor(3, device='cuda:0')\n",
            "Arg_Min :  tensor(0, device='cuda:0')\n"
          ]
        }
      ]
    },
    {
      "cell_type": "markdown",
      "source": [
        "### 10. Make a random tensor with shape (1, 1, 1, 10) and then create a new tensor with all the 1 dimensions removed to be left with a tensor of shape (10). Set the seed to 7 when you create it and print out the first tensor and it's shape as well as the second tensor and it's shape.\n",
        "\n",
        "The output should look like:\n",
        "\n",
        "tensor([[[[0.5349, 0.1988, 0.6592, 0.6569, 0.2328, 0.4251, 0.2071, 0.6297,\n",
        "           0.3653, 0.8513]]]]) torch.Size([1, 1, 1, 10])\n",
        "tensor([0.5349, 0.1988, 0.6592, 0.6569, 0.2328, 0.4251, 0.2071, 0.6297, 0.3653,\n",
        "        0.8513]) torch.Size([10])\n",
        "\n"
      ],
      "metadata": {
        "id": "pFIHmIVWzNaX"
      }
    },
    {
      "cell_type": "code",
      "source": [
        "# Set seed\n",
        "torch.manual_seed(7)\n",
        "\n",
        "# Create random tensor\n",
        "random_tensor = torch.rand(size = (1,1,1,10))\n",
        "\n",
        "# Remove single dimensions : To remove one dimension we use 'squeeze'\n",
        "squeezed_tensor = random_tensor.squeeze()\n",
        "\n",
        "# Print out tensors and their shapes\n",
        "print(random_tensor, random_tensor.shape)\n",
        "print(squeezed_tensor, squeezed_tensor.shape)"
      ],
      "metadata": {
        "colab": {
          "base_uri": "https://localhost:8080/"
        },
        "id": "YgQyQzX8zP6H",
        "outputId": "1ba67422-c12a-4e79-8c17-453e387564cd"
      },
      "execution_count": 11,
      "outputs": [
        {
          "output_type": "stream",
          "name": "stdout",
          "text": [
            "tensor([[[[0.5349, 0.1988, 0.6592, 0.6569, 0.2328, 0.4251, 0.2071, 0.6297,\n",
            "           0.3653, 0.8513]]]]) torch.Size([1, 1, 1, 10])\n",
            "tensor([0.5349, 0.1988, 0.6592, 0.6569, 0.2328, 0.4251, 0.2071, 0.6297, 0.3653,\n",
            "        0.8513]) torch.Size([10])\n"
          ]
        }
      ]
    },
    {
      "cell_type": "code",
      "source": [],
      "metadata": {
        "id": "I98UnORt6wp8"
      },
      "execution_count": null,
      "outputs": []
    }
  ]
}